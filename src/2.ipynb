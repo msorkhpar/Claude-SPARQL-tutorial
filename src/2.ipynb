{
 "cells": [
  {
   "cell_type": "code",
   "execution_count": 5,
   "id": "c9e817f7-6473-4c0a-9de1-5aa14607dc82",
   "metadata": {
    "ExecuteTime": {
     "end_time": "2024-07-03T08:22:28.703302Z",
     "start_time": "2024-07-03T08:22:28.138643Z"
    }
   },
   "outputs": [
    {
     "name": "stdout",
     "output_type": "stream",
     "text": [
      "Dataset 'sample-dataset' already exists.\n"
     ]
    }
   ],
   "source": [
    "from fuseki_client_util import FusekiClient, FusekiConfig\n",
    "client = FusekiClient()"
   ]
  },
  {
   "cell_type": "code",
   "execution_count": 6,
   "id": "da61ff4a-f21f-4f91-a57a-ac5c446199ce",
   "metadata": {},
   "outputs": [
    {
     "name": "stdout",
     "output_type": "stream",
     "text": [
      "Dataset 'sample-dataset' already exists.\n",
      "Loading ttl data...\n",
      "Turtle data loaded successfully.\n"
     ]
    }
   ],
   "source": [
    "client.setup_example_graph()"
   ]
  },
  {
   "cell_type": "code",
   "execution_count": 7,
   "id": "d18761f2-af90-42bc-af58-2ba383f3e58f",
   "metadata": {
    "ExecuteTime": {
     "end_time": "2024-07-03T08:23:59.663469Z",
     "start_time": "2024-07-03T08:23:59.510868Z"
    }
   },
   "outputs": [
    {
     "name": "stdout",
     "output_type": "stream",
     "text": [
      "Dataset 'bookstore' already exists.\n",
      "Loading ttl file: ./ttls/bookstore.ttl\n",
      "Loading ttl data...\n",
      "Turtle data loaded successfully.\n",
      "Turtle file loaded successfully.\n"
     ]
    }
   ],
   "source": [
    "client = FusekiClient(FusekiConfig(dataset=\"bookstore\"))\n",
    "client.load_turtle_file(\"./ttls/bookstore.ttl\")"
   ]
  },
  {
   "cell_type": "code",
   "execution_count": 8,
   "id": "b85b5144-ca81-4a17-9676-914798fd311b",
   "metadata": {
    "ExecuteTime": {
     "end_time": "2024-07-03T08:24:06.765607Z",
     "start_time": "2024-07-03T08:24:06.604668Z"
    }
   },
   "outputs": [
    {
     "data": {
      "text/html": [
       "<div>\n",
       "<style scoped>\n",
       "    .dataframe tbody tr th:only-of-type {\n",
       "        vertical-align: middle;\n",
       "    }\n",
       "\n",
       "    .dataframe tbody tr th {\n",
       "        vertical-align: top;\n",
       "    }\n",
       "\n",
       "    .dataframe thead th {\n",
       "        text-align: right;\n",
       "    }\n",
       "</style>\n",
       "<table border=\"1\" class=\"dataframe\">\n",
       "  <thead>\n",
       "    <tr style=\"text-align: right;\">\n",
       "      <th></th>\n",
       "      <th>book</th>\n",
       "      <th>book_type</th>\n",
       "      <th>title</th>\n",
       "      <th>title_type</th>\n",
       "    </tr>\n",
       "  </thead>\n",
       "  <tbody>\n",
       "    <tr>\n",
       "      <th>0</th>\n",
       "      <td>http://example.org/bookstore/book1</td>\n",
       "      <td>uri</td>\n",
       "      <td>The Great Gatsby</td>\n",
       "      <td>literal</td>\n",
       "    </tr>\n",
       "    <tr>\n",
       "      <th>1</th>\n",
       "      <td>http://example.org/bookstore/book2</td>\n",
       "      <td>uri</td>\n",
       "      <td>To Kill a Mockingbird</td>\n",
       "      <td>literal</td>\n",
       "    </tr>\n",
       "  </tbody>\n",
       "</table>\n",
       "</div>"
      ],
      "text/plain": [
       "                                 book book_type                  title  \\\n",
       "0  http://example.org/bookstore/book1       uri       The Great Gatsby   \n",
       "1  http://example.org/bookstore/book2       uri  To Kill a Mockingbird   \n",
       "\n",
       "  title_type  \n",
       "0    literal  \n",
       "1    literal  "
      ]
     },
     "execution_count": 8,
     "metadata": {},
     "output_type": "execute_result"
    }
   ],
   "source": [
    "with client.sparql(\"\"\"\n",
    "PREFIX : <http://example.org/bookstore/>\n",
    "PREFIX rdf: <http://www.w3.org/1999/02/22-rdf-syntax-ns#>\n",
    "\n",
    "SELECT ?book ?title\n",
    "WHERE {\n",
    "  ?book rdf:type :Book ;\n",
    "        :title ?title .\n",
    "}\n",
    "\"\"\") as q:\n",
    "    result = q.execute_as_df()\n",
    "result"
   ]
  }
 ],
 "metadata": {
  "kernelspec": {
   "display_name": "Python 3 (ipykernel)",
   "language": "python",
   "name": "python3"
  },
  "language_info": {
   "codemirror_mode": {
    "name": "ipython",
    "version": 3
   },
   "file_extension": ".py",
   "mimetype": "text/x-python",
   "name": "python",
   "nbconvert_exporter": "python",
   "pygments_lexer": "ipython3",
   "version": "3.11.9"
  }
 },
 "nbformat": 4,
 "nbformat_minor": 5
}
