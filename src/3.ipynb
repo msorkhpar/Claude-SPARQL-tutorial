{
 "cells": [
  {
   "cell_type": "code",
   "id": "c9e817f7-6473-4c0a-9de1-5aa14607dc82",
   "metadata": {
    "ExecuteTime": {
     "end_time": "2024-07-03T08:48:50.593938Z",
     "start_time": "2024-07-03T08:48:49.686040Z"
    }
   },
   "source": [
    "from fuseki_client_util import FusekiClient, FusekiConfig\n",
    "client = FusekiClient(FusekiConfig(dataset=\"authors\"))\n",
    "client.load_turtle_file(\"./ttls/authors.ttl\")\n"
   ],
   "outputs": [
    {
     "name": "stdout",
     "output_type": "stream",
     "text": [
      "Dataset 'authors' created successfully.\n",
      "Loading ttl file: ./ttls/authors.ttl\n",
      "Loading ttl data...\n",
      "Turtle data loaded successfully.\n",
      "Turtle file loaded successfully.\n"
     ]
    }
   ],
   "execution_count": 1
  },
  {
   "cell_type": "code",
   "id": "b85b5144-ca81-4a17-9676-914798fd311b",
   "metadata": {
    "ExecuteTime": {
     "end_time": "2024-07-03T08:50:17.241990Z",
     "start_time": "2024-07-03T08:50:17.216620Z"
    }
   },
   "source": [
    "with client.sparql(\"\"\"\n",
    "PREFIX ex: <http://example.org/>\n",
    "PREFIX rdf: <http://www.w3.org/1999/02/22-rdf-syntax-ns#>\n",
    "\n",
    "SELECT ?book ?title\n",
    "WHERE {\n",
    "  ?book rdf:type ex:Book ;\n",
    "        ex:title ?title .\n",
    "}\n",
    "\"\"\") as q:\n",
    "    result = q.execute_as_df()\n",
    "result"
   ],
   "outputs": [
    {
     "data": {
      "text/plain": [
       "                       book book_type                  title title_type\n",
       "0  http://example.org/Book2       uri  To Kill a Mockingbird    literal\n",
       "1  http://example.org/Book1       uri       The Great Gatsby    literal"
      ],
      "text/html": [
       "<div>\n",
       "<style scoped>\n",
       "    .dataframe tbody tr th:only-of-type {\n",
       "        vertical-align: middle;\n",
       "    }\n",
       "\n",
       "    .dataframe tbody tr th {\n",
       "        vertical-align: top;\n",
       "    }\n",
       "\n",
       "    .dataframe thead th {\n",
       "        text-align: right;\n",
       "    }\n",
       "</style>\n",
       "<table border=\"1\" class=\"dataframe\">\n",
       "  <thead>\n",
       "    <tr style=\"text-align: right;\">\n",
       "      <th></th>\n",
       "      <th>book</th>\n",
       "      <th>book_type</th>\n",
       "      <th>title</th>\n",
       "      <th>title_type</th>\n",
       "    </tr>\n",
       "  </thead>\n",
       "  <tbody>\n",
       "    <tr>\n",
       "      <th>0</th>\n",
       "      <td>http://example.org/Book2</td>\n",
       "      <td>uri</td>\n",
       "      <td>To Kill a Mockingbird</td>\n",
       "      <td>literal</td>\n",
       "    </tr>\n",
       "    <tr>\n",
       "      <th>1</th>\n",
       "      <td>http://example.org/Book1</td>\n",
       "      <td>uri</td>\n",
       "      <td>The Great Gatsby</td>\n",
       "      <td>literal</td>\n",
       "    </tr>\n",
       "  </tbody>\n",
       "</table>\n",
       "</div>"
      ]
     },
     "execution_count": 4,
     "metadata": {},
     "output_type": "execute_result"
    }
   ],
   "execution_count": 4
  },
  {
   "metadata": {
    "ExecuteTime": {
     "end_time": "2024-07-03T08:51:07.799415Z",
     "start_time": "2024-07-03T08:51:07.754662Z"
    }
   },
   "cell_type": "code",
   "source": [
    "with client.sparql(\"\"\"\n",
    "PREFIX ex: <http://example.org/>\n",
    "PREFIX rdf: <http://www.w3.org/1999/02/22-rdf-syntax-ns#>\n",
    "PREFIX xsd: <http://www.w3.org/2001/XMLSchema#>\n",
    "\n",
    "SELECT ?authorName ?birthDate\n",
    "WHERE {\n",
    "  ?author rdf:type ex:Author ;\n",
    "          ex:name ?authorName ;\n",
    "          ex:birthDate ?birthDate .\n",
    "  FILTER (?birthDate < \"1900-01-01\"^^xsd:date)\n",
    "}\n",
    "\"\"\") as q:\n",
    "    result = q.execute_as_df()\n",
    "result"
   ],
   "id": "7b45dc8a3b7a659b",
   "outputs": [
    {
     "data": {
      "text/plain": [
       "            authorName authorName_type   birthDate birthDate_type\n",
       "0  F. Scott Fitzgerald         literal  1896-09-24        literal"
      ],
      "text/html": [
       "<div>\n",
       "<style scoped>\n",
       "    .dataframe tbody tr th:only-of-type {\n",
       "        vertical-align: middle;\n",
       "    }\n",
       "\n",
       "    .dataframe tbody tr th {\n",
       "        vertical-align: top;\n",
       "    }\n",
       "\n",
       "    .dataframe thead th {\n",
       "        text-align: right;\n",
       "    }\n",
       "</style>\n",
       "<table border=\"1\" class=\"dataframe\">\n",
       "  <thead>\n",
       "    <tr style=\"text-align: right;\">\n",
       "      <th></th>\n",
       "      <th>authorName</th>\n",
       "      <th>authorName_type</th>\n",
       "      <th>birthDate</th>\n",
       "      <th>birthDate_type</th>\n",
       "    </tr>\n",
       "  </thead>\n",
       "  <tbody>\n",
       "    <tr>\n",
       "      <th>0</th>\n",
       "      <td>F. Scott Fitzgerald</td>\n",
       "      <td>literal</td>\n",
       "      <td>1896-09-24</td>\n",
       "      <td>literal</td>\n",
       "    </tr>\n",
       "  </tbody>\n",
       "</table>\n",
       "</div>"
      ]
     },
     "execution_count": 5,
     "metadata": {},
     "output_type": "execute_result"
    }
   ],
   "execution_count": 5
  },
  {
   "metadata": {
    "ExecuteTime": {
     "end_time": "2024-07-03T08:52:14.891408Z",
     "start_time": "2024-07-03T08:52:14.860511Z"
    }
   },
   "cell_type": "code",
   "source": [
    "with client.sparql(\"\"\"\n",
    "PREFIX ex: <http://example.org/>\n",
    "PREFIX rdf: <http://www.w3.org/1999/02/22-rdf-syntax-ns#>\n",
    "PREFIX xsd: <http://www.w3.org/2001/XMLSchema#>\n",
    "\n",
    "SELECT ?title ?authorName ?publicationDate\n",
    "WHERE {\n",
    "  ?book rdf:type ex:Book ;\n",
    "        ex:title ?title ;\n",
    "        ex:author ?author ;\n",
    "        ex:publicationDate ?publicationDate .\n",
    "  ?author ex:name ?authorName .\n",
    "  FILTER (?publicationDate > \"1950-01-01\"^^xsd:date)\n",
    "}\n",
    "ORDER BY ?publicationDate\n",
    "\"\"\") as q:\n",
    "    result = q.execute_as_df()\n",
    "result"
   ],
   "id": "fa970402b9b77dd2",
   "outputs": [
    {
     "data": {
      "text/plain": [
       "                   title title_type  authorName authorName_type  \\\n",
       "0  To Kill a Mockingbird    literal  Harper Lee         literal   \n",
       "\n",
       "  publicationDate publicationDate_type  \n",
       "0      1960-07-11              literal  "
      ],
      "text/html": [
       "<div>\n",
       "<style scoped>\n",
       "    .dataframe tbody tr th:only-of-type {\n",
       "        vertical-align: middle;\n",
       "    }\n",
       "\n",
       "    .dataframe tbody tr th {\n",
       "        vertical-align: top;\n",
       "    }\n",
       "\n",
       "    .dataframe thead th {\n",
       "        text-align: right;\n",
       "    }\n",
       "</style>\n",
       "<table border=\"1\" class=\"dataframe\">\n",
       "  <thead>\n",
       "    <tr style=\"text-align: right;\">\n",
       "      <th></th>\n",
       "      <th>title</th>\n",
       "      <th>title_type</th>\n",
       "      <th>authorName</th>\n",
       "      <th>authorName_type</th>\n",
       "      <th>publicationDate</th>\n",
       "      <th>publicationDate_type</th>\n",
       "    </tr>\n",
       "  </thead>\n",
       "  <tbody>\n",
       "    <tr>\n",
       "      <th>0</th>\n",
       "      <td>To Kill a Mockingbird</td>\n",
       "      <td>literal</td>\n",
       "      <td>Harper Lee</td>\n",
       "      <td>literal</td>\n",
       "      <td>1960-07-11</td>\n",
       "      <td>literal</td>\n",
       "    </tr>\n",
       "  </tbody>\n",
       "</table>\n",
       "</div>"
      ]
     },
     "execution_count": 7,
     "metadata": {},
     "output_type": "execute_result"
    }
   ],
   "execution_count": 7
  }
 ],
 "metadata": {
  "kernelspec": {
   "display_name": "Python 3 (ipykernel)",
   "language": "python",
   "name": "python3"
  },
  "language_info": {
   "codemirror_mode": {
    "name": "ipython",
    "version": 3
   },
   "file_extension": ".py",
   "mimetype": "text/x-python",
   "name": "python",
   "nbconvert_exporter": "python",
   "pygments_lexer": "ipython3",
   "version": "3.11.9"
  }
 },
 "nbformat": 4,
 "nbformat_minor": 5
}
